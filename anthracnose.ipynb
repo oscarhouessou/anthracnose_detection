{
  "nbformat": 4,
  "nbformat_minor": 0,
  "metadata": {
    "colab": {
      "provenance": []
    },
    "kernelspec": {
      "name": "python3",
      "display_name": "Python 3"
    },
    "language_info": {
      "name": "python"
    }
  },
  "cells": [
    {
      "cell_type": "code",
      "execution_count": null,
      "metadata": {
        "colab": {
          "base_uri": "https://localhost:8080/"
        },
        "id": "bdni0bnheN2J",
        "outputId": "d3931536-f4e9-4226-b7a0-27d3f7a0274d"
      },
      "outputs": [
        {
          "output_type": "stream",
          "name": "stdout",
          "text": [
            "Mounted at drive\n"
          ]
        }
      ],
      "source": [
        "from google.colab import drive\n",
        "drive.mount('drive')"
      ]
    },
    {
      "cell_type": "code",
      "source": [
        "# %tensorflow_version 1.x\n",
        "import os\n",
        "os.chdir('/content/drive/MyDrive/')"
      ],
      "metadata": {
        "id": "TuO1VaO0erNC"
      },
      "execution_count": null,
      "outputs": []
    },
    {
      "cell_type": "code",
      "source": [
        "!ls"
      ],
      "metadata": {
        "id": "bhM-0kEMezQd"
      },
      "execution_count": null,
      "outputs": []
    },
    {
      "cell_type": "code",
      "source": [
        "#!unzip dataset.zip"
      ],
      "metadata": {
        "id": "Q1RddGWOe0M2"
      },
      "execution_count": null,
      "outputs": []
    },
    {
      "cell_type": "code",
      "source": [
        "!ls"
      ],
      "metadata": {
        "id": "6phIxW0V0DRl",
        "outputId": "7badaff2-4eb3-4119-ef14-83fd7d42dcb8",
        "colab": {
          "base_uri": "https://localhost:8080/"
        }
      },
      "execution_count": null,
      "outputs": [
        {
          "output_type": "stream",
          "name": "stdout",
          "text": [
            "test  train  valid\n"
          ]
        }
      ]
    },
    {
      "cell_type": "code",
      "source": [
        "from tensorflow.keras.preprocessing.image import ImageDataGenerator\n",
        "\n",
        "# Chemin vers le dossier contenant les données\n",
        "data_dir = 'Anarcade_project'\n",
        "\n",
        "# Définir les chemins pour les ensembles d'entraînement, de test et de validation\n",
        "train_dir = os.path.join(data_dir, 'train')\n",
        "test_dir = os.path.join(data_dir, 'test')\n",
        "valid_dir = os.path.join(data_dir, 'valid')\n",
        "\n",
        "# Définir la taille des images et la taille du lot (batch size)\n",
        "img_size = (224, 224)\n",
        "batch_size = 32\n",
        "\n",
        "# Normalisation des pixels entre 0 et 1\n",
        "train_datagen = ImageDataGenerator(rescale=1./255)\n",
        "valid_datagen = ImageDataGenerator(rescale=1./255)\n",
        "\n",
        "# Charger les données d'entraînement\n",
        "train_generator = train_datagen.flow_from_directory(\n",
        "    train_dir,\n",
        "    target_size=img_size,\n",
        "    batch_size=batch_size,\n",
        "    class_mode='binary',  # Si vous avez plus de deux classes, utilisez 'categorical'\n",
        "    classes=['c1', 'c3']  # Les noms des sous-dossiers\n",
        ")\n",
        "\n",
        "# Charger les données de validation\n",
        "valid_generator = valid_datagen.flow_from_directory(\n",
        "    valid_dir,\n",
        "    target_size=img_size,\n",
        "    batch_size=batch_size,\n",
        "    class_mode='binary',\n",
        "    classes=['c1', 'c3']\n",
        ")\n",
        "\n",
        "# Vérifier les étiquettes associées aux classes\n",
        "print(train_generator.class_indices)\n",
        "print(valid_generator.class_indices)\n"
      ],
      "metadata": {
        "id": "9K_BNltI0Ae8",
        "colab": {
          "base_uri": "https://localhost:8080/"
        },
        "outputId": "31580064-f6db-4de2-d5dd-4e89eba95daa"
      },
      "execution_count": null,
      "outputs": [
        {
          "output_type": "stream",
          "name": "stdout",
          "text": [
            "Found 7291 images belonging to 2 classes.\n",
            "Found 2430 images belonging to 2 classes.\n",
            "{'c1': 0, 'c3': 1}\n",
            "{'c1': 0, 'c3': 1}\n"
          ]
        }
      ]
    },
    {
      "cell_type": "code",
      "source": [
        "from tensorflow.keras.models import Sequential\n",
        "from tensorflow.keras.layers import Conv2D, MaxPooling2D, Flatten, Dense\n",
        "\n",
        "# Créer un modèle séquentiel\n",
        "model = Sequential()\n",
        "\n",
        "# Ajouter une couche de convolution avec activation ReLU et une couche de pooling\n",
        "model.add(Conv2D(32, (3, 3), input_shape=(224, 224, 3), activation='relu'))\n",
        "model.add(MaxPooling2D(pool_size=(2, 2)))\n",
        "\n",
        "# Ajouter une deuxième couche de convolution avec activation ReLU et une couche de pooling\n",
        "model.add(Conv2D(64, (3, 3), activation='relu'))\n",
        "model.add(MaxPooling2D(pool_size=(2, 2)))\n",
        "\n",
        "# Ajouter une couche de flatten pour convertir la sortie en vecteur\n",
        "model.add(Flatten())\n",
        "\n",
        "# Ajouter une couche dense avec activation ReLU\n",
        "model.add(Dense(128, activation='relu'))\n",
        "\n",
        "# Ajouter la couche de sortie avec activation sigmoid (binaire) ou softmax (multiclasse)\n",
        "model.add(Dense(1, activation='sigmoid'))\n",
        "\n",
        "# Compiler le modèle\n",
        "model.compile(optimizer='adam', loss='binary_crossentropy', metrics=['accuracy'])\n",
        "\n",
        "# Afficher la structure du modèle\n",
        "model.summary()\n",
        "\n",
        "# Entraîner le modèle\n",
        "history = model.fit(\n",
        "    train_generator,\n",
        "    steps_per_epoch=train_generator.samples // batch_size,\n",
        "    epochs=10,  # ajustez le nombre d'époques selon vos besoins\n",
        "    validation_data=valid_generator,\n",
        "    validation_steps=valid_generator.samples // batch_size\n",
        ")\n"
      ],
      "metadata": {
        "colab": {
          "base_uri": "https://localhost:8080/"
        },
        "id": "t6Nk3srn04EW",
        "outputId": "18b5d22c-0d11-4c11-f0c4-390224c61a07"
      },
      "execution_count": null,
      "outputs": [
        {
          "output_type": "stream",
          "name": "stdout",
          "text": [
            "Model: \"sequential\"\n",
            "_________________________________________________________________\n",
            " Layer (type)                Output Shape              Param #   \n",
            "=================================================================\n",
            " conv2d (Conv2D)             (None, 222, 222, 32)      896       \n",
            "                                                                 \n",
            " max_pooling2d (MaxPooling2  (None, 111, 111, 32)      0         \n",
            " D)                                                              \n",
            "                                                                 \n",
            " conv2d_1 (Conv2D)           (None, 109, 109, 64)      18496     \n",
            "                                                                 \n",
            " max_pooling2d_1 (MaxPoolin  (None, 54, 54, 64)        0         \n",
            " g2D)                                                            \n",
            "                                                                 \n",
            " flatten (Flatten)           (None, 186624)            0         \n",
            "                                                                 \n",
            " dense (Dense)               (None, 128)               23888000  \n",
            "                                                                 \n",
            " dense_1 (Dense)             (None, 1)                 129       \n",
            "                                                                 \n",
            "=================================================================\n",
            "Total params: 23907521 (91.20 MB)\n",
            "Trainable params: 23907521 (91.20 MB)\n",
            "Non-trainable params: 0 (0.00 Byte)\n",
            "_________________________________________________________________\n",
            "Epoch 1/10\n",
            "227/227 [==============================] - 843s 4s/step - loss: 0.6662 - accuracy: 0.6348 - val_loss: 0.6154 - val_accuracy: 0.6321\n",
            "Epoch 2/10\n",
            "227/227 [==============================] - 779s 3s/step - loss: 0.5619 - accuracy: 0.6956 - val_loss: 0.5729 - val_accuracy: 0.6883\n",
            "Epoch 3/10\n",
            "227/227 [==============================] - 807s 4s/step - loss: 0.4901 - accuracy: 0.7464 - val_loss: 0.5435 - val_accuracy: 0.7179\n",
            "Epoch 4/10\n",
            "227/227 [==============================] - 805s 4s/step - loss: 0.4165 - accuracy: 0.7956 - val_loss: 0.5232 - val_accuracy: 0.7221\n",
            "Epoch 5/10\n",
            "227/227 [==============================] - 793s 3s/step - loss: 0.3181 - accuracy: 0.8565 - val_loss: 0.5397 - val_accuracy: 0.7604\n",
            "Epoch 6/10\n",
            "227/227 [==============================] - 788s 3s/step - loss: 0.2186 - accuracy: 0.9071 - val_loss: 0.6064 - val_accuracy: 0.7675\n",
            "Epoch 7/10\n",
            "227/227 [==============================] - 784s 3s/step - loss: 0.1497 - accuracy: 0.9446 - val_loss: 0.6477 - val_accuracy: 0.7829\n",
            "Epoch 8/10\n",
            "227/227 [==============================] - 786s 3s/step - loss: 0.1006 - accuracy: 0.9642 - val_loss: 0.7748 - val_accuracy: 0.7779\n",
            "Epoch 9/10\n",
            "227/227 [==============================] - 777s 3s/step - loss: 0.0675 - accuracy: 0.9759 - val_loss: 0.9816 - val_accuracy: 0.7829\n",
            "Epoch 10/10\n",
            "227/227 [==============================] - 778s 3s/step - loss: 0.0416 - accuracy: 0.9890 - val_loss: 0.9630 - val_accuracy: 0.7775\n"
          ]
        }
      ]
    },
    {
      "cell_type": "code",
      "source": [
        "# Évaluer la performance du modèle sur les données de validation\n",
        "evaluation = model.evaluate(valid_generator, steps=valid_generator.samples // batch_size)\n",
        "\n",
        "# Afficher les métriques d'évaluation\n",
        "print(\"Loss:\", evaluation[0])\n",
        "print(\"Accuracy:\", evaluation[1])\n"
      ],
      "metadata": {
        "colab": {
          "base_uri": "https://localhost:8080/"
        },
        "id": "akbeJQAK1FAv",
        "outputId": "92bea949-9d8b-492c-904e-7f79fd2681e0"
      },
      "execution_count": null,
      "outputs": [
        {
          "output_type": "stream",
          "name": "stdout",
          "text": [
            "75/75 [==============================] - 74s 984ms/step - loss: 0.9648 - accuracy: 0.7771\n",
            "Loss: 0.9648328423500061\n",
            "Accuracy: 0.7770833373069763\n"
          ]
        }
      ]
    },
    {
      "cell_type": "code",
      "source": [
        "# Save the trained model\n",
        "model.save('Anarcade_project/model')\n",
        "\n",
        "#"
      ],
      "metadata": {
        "id": "qgsT-LkTSUDc"
      },
      "execution_count": null,
      "outputs": []
    },
    {
      "cell_type": "code",
      "source": [
        "from tensorflow.keras.models import save_model\n",
        "\n",
        "# Assuming 'model' is the name of your trained model\n",
        "# Save the model in HDF5 format\n",
        "model.save('/Anarcade_project/my_model.h5')\n"
      ],
      "metadata": {
        "id": "pQ2yWO7TU-3h"
      },
      "execution_count": 21,
      "outputs": []
    },
    {
      "cell_type": "code",
      "source": [
        "!pip freeze > requirements.txt\n"
      ],
      "metadata": {
        "id": "bidp6smPSsqI"
      },
      "execution_count": null,
      "outputs": []
    }
  ]
}